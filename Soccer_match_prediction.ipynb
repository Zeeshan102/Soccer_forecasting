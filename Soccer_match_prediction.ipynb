{
 "cells": [
  {
   "cell_type": "markdown",
   "id": "bd830edd-f751-4200-b377-370879461e4e",
   "metadata": {},
   "source": [
    "# Import Necessary frameworks and Liberaries"
   ]
  },
  {
   "cell_type": "code",
   "execution_count": 2,
   "id": "510ad58e-410a-4650-b0c2-c4a6274e8588",
   "metadata": {},
   "outputs": [],
   "source": [
    "import pandas as pd\n",
    "import numpy as np\n",
    "import pandas as pd\n",
    "import xgboost as xgb\n",
    "from sklearn.model_selection import train_test_split\n",
    "from sklearn.metrics import accuracy_score, classification_report\n",
    "from sklearn.model_selection import cross_val_score\n",
    "from sklearn.preprocessing import OrdinalEncoder\n",
    "from collections import defaultdict\n",
    "import joblib"
   ]
  },
  {
   "cell_type": "markdown",
   "id": "a5c8a452-14b4-44d3-94a1-b89db840905b",
   "metadata": {},
   "source": [
    "# Load matches.csv and teams.csv files"
   ]
  },
  {
   "cell_type": "code",
   "execution_count": 3,
   "id": "eb3d18e8-ae9e-4638-b6b9-82b4c987181f",
   "metadata": {},
   "outputs": [],
   "source": [
    "df_matches = pd.read_csv(\"C:\\\\Users\\\\zeesh\\\\Downloads\\\\Athena AI\\\\task1\\\\task1\\\\matches.csv\")\n",
    "df_teams = pd.read_csv(\"C:\\\\Users\\\\zeesh\\\\Downloads\\\\Athena AI\\\\task1\\\\task1\\\\teams.csv\")"
   ]
  },
  {
   "cell_type": "markdown",
   "id": "8025f131-a0c7-42dd-802a-3eaf7407b90e",
   "metadata": {},
   "source": [
    "# Data Preprocessing & Feature Engineering"
   ]
  },
  {
   "cell_type": "code",
   "execution_count": 4,
   "id": "8cf1bf85-9bef-458d-bb67-ba05b84dae37",
   "metadata": {},
   "outputs": [],
   "source": [
    "## Drop unnecessary columns\n",
    "df_matches.drop(columns=['IdCupSeason', 'statText', 'resText', 'team1PenScore', 'team2PenScore'], inplace=True) \n",
    "\n",
    "# Convert to datetime and format to YYYY-MM-DD\n",
    "df_matches['date'] = pd.to_datetime(df_matches['date'], format='%Y%m%d').dt.strftime('%Y-%m-%d')\n",
    "\n",
    "## Drop missing values' rows from matches.csv file\n",
    "df_matches.dropna(inplace=True) \n",
    "\n",
    "# Sort by date in ascending order (earliest first)\n",
    "df_matches.sort_values(by='date',inplace=True)"
   ]
  },
  {
   "cell_type": "markdown",
   "id": "9675c6f8-9c00-4f66-be20-a7eedc711ed1",
   "metadata": {},
   "source": [
    "### Defining 'venue_country', 'is_home_team1', 'is_home_team2' & 'neutral_venue' Columns"
   ]
  },
  {
   "cell_type": "code",
   "execution_count": 5,
   "id": "d46299d4-4035-476e-824c-3d5b185ee164",
   "metadata": {},
   "outputs": [],
   "source": [
    "## Separate the venue_country column from the venue column\n",
    "df_matches[\"venue_country\"] = df_matches[\"venue\"].str.split(\", \").str[-1]  \n",
    "\n",
    "## Creating Home/Away Column for team1 and team2\n",
    "df_matches['is_home_team1'] = df_matches.apply(lambda row: 1 if row['team1Text'] == row['venue_country'] else 0, axis=1) \n",
    "df_matches['is_home_team2'] = df_matches.apply(lambda row: 1 if row['team2Text'] == row['venue_country'] else 0, axis=1)\n",
    "\n",
    "df_matches.drop(columns=['team1Text', 'team2Text', 'venue'], inplace=True) ## Drop the team1Text and team2Text columns\n",
    "df_matches[\"neutral_venue\"] = ((df_matches[\"is_home_team1\"] == 0) & (df_matches[\"is_home_team2\"] == 0)).astype(int) ## Defining neutral_venue column"
   ]
  },
  {
   "cell_type": "markdown",
   "id": "69cbd3ea-e014-495b-aec4-319538492e04",
   "metadata": {},
   "source": [
    "### Merge 'confederation' and 'fifa_code' columns from teams.csv file for team1 and team2"
   ]
  },
  {
   "cell_type": "code",
   "execution_count": 6,
   "id": "e22f638f-529b-40b1-a976-923ce409788b",
   "metadata": {},
   "outputs": [],
   "source": [
    "# Merge for team1 (home team)\n",
    "df_matches = df_matches.merge(\n",
    "    df_teams[['fifa_code', 'confederation']],  # Select columns to merge\n",
    "    left_on='team1',                           # Team1 column in df_matches\n",
    "    right_on='fifa_code',                      # FIFA code in df_teams\n",
    "    suffixes=('', '_team1')                    # Avoid column name conflicts\n",
    ")\n",
    "\n",
    "# Rename the new column to \"confederation_team1\"\n",
    "df_matches = df_matches.rename(columns={'confederation': 'confederation_team1'})\n",
    "\n",
    "\n",
    "\n",
    "# Merge for team2 (away team)\n",
    "df_matches = df_matches.merge(\n",
    "    df_teams[['fifa_code', 'confederation']],  # Select columns to merge\n",
    "    left_on='team2',                           # Team2 column in df_matches\n",
    "    right_on='fifa_code',                      # FIFA code in df_teams\n",
    "    suffixes=('', '_team2')                    # Avoid column name conflicts\n",
    ")\n",
    "\n",
    "# Rename the new column to \"confederation_team2\"\n",
    "df_matches = df_matches.rename(columns={'confederation': 'confederation_team2'})"
   ]
  },
  {
   "cell_type": "code",
   "execution_count": 7,
   "id": "38ed4276-4258-4bb1-b917-38b5ca73be69",
   "metadata": {},
   "outputs": [],
   "source": [
    "## These two columns are not needed anymore\n",
    "df_matches = df_matches.drop(columns=['fifa_code', 'fifa_code_team2']) "
   ]
  },
  {
   "cell_type": "markdown",
   "id": "b5c9a90d-37c3-47d7-9902-ed69701bc771",
   "metadata": {},
   "source": [
    "### Mapping confederation names with numerical values according to the strength of each confederation "
   ]
  },
  {
   "cell_type": "code",
   "execution_count": 8,
   "id": "52a030e3-0b1b-4c9b-a659-5ed004d68f1b",
   "metadata": {},
   "outputs": [],
   "source": [
    "conf_strength = {\n",
    "    \"UEFA\": 5,      # Europe (historically strongest)\n",
    "    \"CONMEBOL\": 4,  # South America\n",
    "    \"CONCACAF\": 3,  # North/Central America & Caribbean\n",
    "    \"CAF\": 2,       # Africa\n",
    "    \"AFC\": 2,       # Asia\n",
    "    \"OFC\": 1        # Oceania\n",
    "}\n",
    "\n",
    "\n",
    "df_matches[\"confederation_strength_team1\"] = df_matches[\"confederation_team1\"].map(conf_strength)\n",
    "df_matches[\"confederation_strength_team2\"] = df_matches[\"confederation_team2\"].map(conf_strength)\n",
    "df_matches = df_matches.drop(columns=['confederation_team1', 'confederation_team2'])"
   ]
  },
  {
   "cell_type": "markdown",
   "id": "07d59b49-410b-44f5-bd15-619bb5d2ca1e",
   "metadata": {},
   "source": [
    "### Calculating rolling metrices for team1 and team 2"
   ]
  },
  {
   "cell_type": "code",
   "execution_count": 9,
   "id": "e5bbf029-f4cc-4bb5-80d8-6f3140535851",
   "metadata": {},
   "outputs": [],
   "source": [
    "# Function to calculate rolling metrics for each team\n",
    "def calculate_rolling_metrics(df, team_column, score_column, opponent_score_column, num_matches):\n",
    "    rolling_metrics = {\n",
    "        f'{team_column}_avg_goals_last_{num_matches}': [],\n",
    "        f'{team_column}_avg_goals_conceded_last_{num_matches}': [],\n",
    "        f'{team_column}_win_rate_last_{num_matches}': []\n",
    "    }\n",
    "\n",
    "    for i in range(len(df)):\n",
    "        # Filter the past matches for the current team\n",
    "        past_matches = df.iloc[:i]\n",
    "        team_matches = past_matches[(past_matches['team1'] == df.iloc[i][team_column]) | (past_matches['team2'] == df.iloc[i][team_column])].tail(num_matches)\n",
    "\n",
    "        # Calculate goals scored and conceded\n",
    "        goals_scored = team_matches.apply(\n",
    "            lambda row: row[score_column] if row['team1'] == df.iloc[i][team_column] else row[opponent_score_column], axis=1\n",
    "        )\n",
    "        goals_conceded = team_matches.apply(\n",
    "            lambda row: row[opponent_score_column] if row['team1'] == df.iloc[i][team_column] else row[score_column], axis=1\n",
    "        )\n",
    "\n",
    "        # Calculate metrics\n",
    "        avg_goals = goals_scored.mean() if not goals_scored.empty else 0\n",
    "        avg_goals_conceded = goals_conceded.mean() if not goals_conceded.empty else 0\n",
    "        win_rate = team_matches.apply(\n",
    "            lambda row: 1 if (row['team1'] == df.iloc[i][team_column] and row[score_column] > row[opponent_score_column]) or\n",
    "                            (row['team2'] == df.iloc[i][team_column] and row[opponent_score_column] > row[score_column]) else 0, axis=1\n",
    "        ).mean() if not team_matches.empty else 0\n",
    "\n",
    "        # Append the calculated metrics\n",
    "        rolling_metrics[f'{team_column}_avg_goals_last_{num_matches}'].append(avg_goals)\n",
    "        rolling_metrics[f'{team_column}_avg_goals_conceded_last_{num_matches}'].append(avg_goals_conceded)\n",
    "        rolling_metrics[f'{team_column}_win_rate_last_{num_matches}'].append(win_rate)\n",
    "\n",
    "    return rolling_metrics"
   ]
  },
  {
   "cell_type": "code",
   "execution_count": 10,
   "id": "669a7b18-3b60-4992-a1f1-9146d6559c90",
   "metadata": {},
   "outputs": [],
   "source": [
    "# Calculate metrics for team1 (last 5 matches for goals and last 10 matches for win rate)\n",
    "metrics_team1_last_5 = calculate_rolling_metrics(df_matches, 'team1', 'team1Score', 'team2Score', 5)\n",
    "metrics_team1_last_10 = calculate_rolling_metrics(df_matches, 'team1', 'team1Score', 'team2Score', 10)\n",
    "\n",
    "# Calculate metrics for team2 (last 5 matches for goals and last 10 matches for win rate)\n",
    "metrics_team2_last_5 = calculate_rolling_metrics(df_matches, 'team2', 'team2Score', 'team1Score', 5)\n",
    "metrics_team2_last_10 = calculate_rolling_metrics(df_matches, 'team2', 'team2Score', 'team1Score', 10)"
   ]
  },
  {
   "cell_type": "code",
   "execution_count": 11,
   "id": "e6844975-3d80-44b2-9519-73941b7c509e",
   "metadata": {},
   "outputs": [],
   "source": [
    "# Add the new columns to the original dataframe\n",
    "df_matches['team1_avg_goals_last_5'] = metrics_team1_last_5['team1_avg_goals_last_5']\n",
    "df_matches['team1_avg_goals_conceded_last_5'] = metrics_team1_last_5['team1_avg_goals_conceded_last_5']\n",
    "df_matches['team1_win_rate_last_10'] = metrics_team1_last_10['team1_win_rate_last_10']\n",
    "\n",
    "df_matches['team2_avg_goals_last_5'] = metrics_team2_last_5['team2_avg_goals_last_5']\n",
    "df_matches['team2_avg_goals_conceded_last_5'] = metrics_team2_last_5['team2_avg_goals_conceded_last_5']\n",
    "df_matches['team2_win_rate_last_10'] = metrics_team2_last_10['team2_win_rate_last_10']"
   ]
  },
  {
   "cell_type": "markdown",
   "id": "0bcb5416-f754-43d3-ba19-6506286ca139",
   "metadata": {},
   "source": [
    "### Calculate head to head features for team1 and team2"
   ]
  },
  {
   "cell_type": "code",
   "execution_count": 14,
   "id": "dfc282da-1ded-4cf2-9ca4-17ff361fbe43",
   "metadata": {},
   "outputs": [],
   "source": [
    "def calculate_h2h_features(df):\n",
    "    \"\"\"\n",
    "    Calculate Head-to-Head (H2H) features for soccer matches:\n",
    "    - h2h_win_rate_team1: Historical win rate of team1 against team2\n",
    "    - h2h_avg_goals_team1: Average goals scored by team1 against team2\n",
    "    - h2h_win_rate_team2: Historical win rate of team2 against team1\n",
    "    - h2h_avg_goals_team2: Average goals scored by team2 against team1\n",
    "    \"\"\"\n",
    "    # Sort matches chronologically\n",
    "    df = df.sort_values('date').reset_index(drop=True)\n",
    "    \n",
    "    # Initialize nested dictionary for cumulative stats\n",
    "    h2h_stats = defaultdict(\n",
    "        lambda: defaultdict(lambda: {'matches': 0, 'wins': 0, 'goals': 0}))\n",
    "    \n",
    "    # Lists to store results\n",
    "    win_rates_team1, avg_goals_team1 = [], []\n",
    "    win_rates_team2, avg_goals_team2 = [], []\n",
    "\n",
    "    for idx, row in df.iterrows():\n",
    "        team1, team2 = row['team1'], row['team2']\n",
    "        score1, score2 = row['team1Score'], row['team2Score']\n",
    "        \n",
    "        # Get historical stats for team1 vs team2\n",
    "        stats_team1 = h2h_stats[team1][team2]\n",
    "        total_matches_team1 = stats_team1['matches']\n",
    "        \n",
    "        # Get historical stats for team2 vs team1\n",
    "        stats_team2 = h2h_stats[team2][team1]\n",
    "        total_matches_team2 = stats_team2['matches']\n",
    "        \n",
    "        # Calculate features for team1 vs team2\n",
    "        if total_matches_team1 == 0:\n",
    "            win_rate_team1 = 0.5  # Neutral prior if no history\n",
    "            avg_goal_team1 = 0.0\n",
    "        else:\n",
    "            win_rate_team1 = stats_team1['wins'] / total_matches_team1\n",
    "            avg_goal_team1 = stats_team1['goals'] / total_matches_team1\n",
    "            \n",
    "        # Calculate features for team2 vs team1\n",
    "        if total_matches_team2 == 0:\n",
    "            win_rate_team2 = 0.5  # Neutral prior if no history\n",
    "            avg_goal_team2 = 0.0\n",
    "        else:\n",
    "            win_rate_team2 = stats_team2['wins'] / total_matches_team2\n",
    "            avg_goal_team2 = stats_team2['goals'] / total_matches_team2\n",
    "            \n",
    "        # Append features to lists\n",
    "        win_rates_team1.append(win_rate_team1)\n",
    "        avg_goals_team1.append(avg_goal_team1)\n",
    "        win_rates_team2.append(win_rate_team2)\n",
    "        avg_goals_team2.append(avg_goal_team2)\n",
    "        \n",
    "        # Update stats for future matches\n",
    "        # Update for team1 vs team2 perspective\n",
    "        h2h_stats[team1][team2]['matches'] += 1\n",
    "        h2h_stats[team1][team2]['wins'] += 1 if score1 > score2 else 0\n",
    "        h2h_stats[team1][team2]['goals'] += score1\n",
    "        \n",
    "        # Update reverse perspective (team2 vs team1)\n",
    "        h2h_stats[team2][team1]['matches'] += 1\n",
    "        h2h_stats[team2][team1]['wins'] += 1 if score2 > score1 else 0\n",
    "        h2h_stats[team2][team1]['goals'] += score2\n",
    "        \n",
    "    # Add features to DataFrame\n",
    "    df['h2h_win_rate_team1'] = win_rates_team1\n",
    "    df['h2h_avg_goals_team1'] = avg_goals_team1\n",
    "    df['h2h_win_rate_team2'] = win_rates_team2\n",
    "    df['h2h_avg_goals_team2'] = avg_goals_team2\n",
    "    \n",
    "    return df"
   ]
  },
  {
   "cell_type": "code",
   "execution_count": 15,
   "id": "6817db72-a484-4362-bd96-d79a7eeaff5b",
   "metadata": {},
   "outputs": [],
   "source": [
    "df_matches = calculate_h2h_features(df_matches)"
   ]
  },
  {
   "cell_type": "code",
   "execution_count": 18,
   "id": "1ab6a00a-1f84-448a-a5f8-a39726b484ac",
   "metadata": {},
   "outputs": [
    {
     "data": {
      "text/html": [
       "<div>\n",
       "<style scoped>\n",
       "    .dataframe tbody tr th:only-of-type {\n",
       "        vertical-align: middle;\n",
       "    }\n",
       "\n",
       "    .dataframe tbody tr th {\n",
       "        vertical-align: top;\n",
       "    }\n",
       "\n",
       "    .dataframe thead th {\n",
       "        text-align: right;\n",
       "    }\n",
       "</style>\n",
       "<table border=\"1\" class=\"dataframe\">\n",
       "  <thead>\n",
       "    <tr style=\"text-align: right;\">\n",
       "      <th></th>\n",
       "      <th>date</th>\n",
       "      <th>team1</th>\n",
       "      <th>team2</th>\n",
       "      <th>CupName</th>\n",
       "      <th>team1Score</th>\n",
       "      <th>team2Score</th>\n",
       "      <th>venue_country</th>\n",
       "      <th>is_home_team1</th>\n",
       "      <th>is_home_team2</th>\n",
       "      <th>neutral_venue</th>\n",
       "      <th>...</th>\n",
       "      <th>team1_avg_goals_last_5</th>\n",
       "      <th>team1_avg_goals_conceded_last_5</th>\n",
       "      <th>team1_win_rate_last_10</th>\n",
       "      <th>team2_avg_goals_last_5</th>\n",
       "      <th>team2_avg_goals_conceded_last_5</th>\n",
       "      <th>team2_win_rate_last_10</th>\n",
       "      <th>h2h_win_rate_team1</th>\n",
       "      <th>h2h_avg_goals_team1</th>\n",
       "      <th>h2h_win_rate_team2</th>\n",
       "      <th>h2h_avg_goals_team2</th>\n",
       "    </tr>\n",
       "  </thead>\n",
       "  <tbody>\n",
       "    <tr>\n",
       "      <th>0</th>\n",
       "      <td>1950-02-17</td>\n",
       "      <td>EGY</td>\n",
       "      <td>GRE</td>\n",
       "      <td>Friendly</td>\n",
       "      <td>2.0</td>\n",
       "      <td>0.0</td>\n",
       "      <td>Egypt</td>\n",
       "      <td>1</td>\n",
       "      <td>0</td>\n",
       "      <td>0</td>\n",
       "      <td>...</td>\n",
       "      <td>0.0</td>\n",
       "      <td>0.0</td>\n",
       "      <td>0.0</td>\n",
       "      <td>0.0</td>\n",
       "      <td>0.0</td>\n",
       "      <td>0.0</td>\n",
       "      <td>0.5</td>\n",
       "      <td>0.0</td>\n",
       "      <td>0.5</td>\n",
       "      <td>0.0</td>\n",
       "    </tr>\n",
       "    <tr>\n",
       "      <th>1</th>\n",
       "      <td>1950-02-25</td>\n",
       "      <td>SLV</td>\n",
       "      <td>HAI</td>\n",
       "      <td>Friendly</td>\n",
       "      <td>1.0</td>\n",
       "      <td>0.0</td>\n",
       "      <td>Guatemala</td>\n",
       "      <td>0</td>\n",
       "      <td>0</td>\n",
       "      <td>1</td>\n",
       "      <td>...</td>\n",
       "      <td>0.0</td>\n",
       "      <td>0.0</td>\n",
       "      <td>0.0</td>\n",
       "      <td>0.0</td>\n",
       "      <td>0.0</td>\n",
       "      <td>0.0</td>\n",
       "      <td>0.5</td>\n",
       "      <td>0.0</td>\n",
       "      <td>0.5</td>\n",
       "      <td>0.0</td>\n",
       "    </tr>\n",
       "    <tr>\n",
       "      <th>2</th>\n",
       "      <td>1950-02-26</td>\n",
       "      <td>SLV</td>\n",
       "      <td>CRC</td>\n",
       "      <td>Friendly</td>\n",
       "      <td>0.0</td>\n",
       "      <td>1.0</td>\n",
       "      <td>Guatemala</td>\n",
       "      <td>0</td>\n",
       "      <td>0</td>\n",
       "      <td>1</td>\n",
       "      <td>...</td>\n",
       "      <td>1.0</td>\n",
       "      <td>0.0</td>\n",
       "      <td>1.0</td>\n",
       "      <td>0.0</td>\n",
       "      <td>0.0</td>\n",
       "      <td>0.0</td>\n",
       "      <td>0.5</td>\n",
       "      <td>0.0</td>\n",
       "      <td>0.5</td>\n",
       "      <td>0.0</td>\n",
       "    </tr>\n",
       "  </tbody>\n",
       "</table>\n",
       "<p>3 rows × 22 columns</p>\n",
       "</div>"
      ],
      "text/plain": [
       "         date team1 team2   CupName  team1Score  team2Score venue_country  \\\n",
       "0  1950-02-17   EGY   GRE  Friendly         2.0         0.0         Egypt   \n",
       "1  1950-02-25   SLV   HAI  Friendly         1.0         0.0     Guatemala   \n",
       "2  1950-02-26   SLV   CRC  Friendly         0.0         1.0     Guatemala   \n",
       "\n",
       "   is_home_team1  is_home_team2  neutral_venue  ...  team1_avg_goals_last_5  \\\n",
       "0              1              0              0  ...                     0.0   \n",
       "1              0              0              1  ...                     0.0   \n",
       "2              0              0              1  ...                     1.0   \n",
       "\n",
       "   team1_avg_goals_conceded_last_5  team1_win_rate_last_10  \\\n",
       "0                              0.0                     0.0   \n",
       "1                              0.0                     0.0   \n",
       "2                              0.0                     1.0   \n",
       "\n",
       "   team2_avg_goals_last_5  team2_avg_goals_conceded_last_5  \\\n",
       "0                     0.0                              0.0   \n",
       "1                     0.0                              0.0   \n",
       "2                     0.0                              0.0   \n",
       "\n",
       "   team2_win_rate_last_10  h2h_win_rate_team1  h2h_avg_goals_team1  \\\n",
       "0                     0.0                 0.5                  0.0   \n",
       "1                     0.0                 0.5                  0.0   \n",
       "2                     0.0                 0.5                  0.0   \n",
       "\n",
       "   h2h_win_rate_team2  h2h_avg_goals_team2  \n",
       "0                 0.5                  0.0  \n",
       "1                 0.5                  0.0  \n",
       "2                 0.5                  0.0  \n",
       "\n",
       "[3 rows x 22 columns]"
      ]
     },
     "execution_count": 18,
     "metadata": {},
     "output_type": "execute_result"
    }
   ],
   "source": [
    "# Create copies to avoid modifying original dataframe\n",
    "df = df_matches.copy()\n",
    "df.head(3)"
   ]
  },
  {
   "cell_type": "markdown",
   "id": "0883b30e-e597-4a8a-b59b-3b149a51af77",
   "metadata": {},
   "source": [
    "### Split date column"
   ]
  },
  {
   "cell_type": "code",
   "execution_count": 19,
   "id": "51111d46-f0ee-43ab-9743-d944c32c26ae",
   "metadata": {},
   "outputs": [],
   "source": [
    "# Convert the 'date' column to datetime\n",
    "df[\"date\"] = pd.to_datetime(df[\"date\"])\n",
    "\n",
    "# Extract basic features\n",
    "df[\"year\"] = df[\"date\"].dt.year\n",
    "df[\"month\"] = df[\"date\"].dt.month\n",
    "df[\"day\"] = df[\"date\"].dt.day\n",
    "\n",
    "df = df.drop(columns=['date']) ## date column is not needed anymore"
   ]
  },
  {
   "cell_type": "markdown",
   "id": "9204f81b-9eb5-4207-9058-aedca53df1d2",
   "metadata": {},
   "source": [
    "### Encoding values into numerical values"
   ]
  },
  {
   "cell_type": "code",
   "execution_count": 20,
   "id": "fc745ab8-a8d8-4afe-b820-1e3f6b19bdc6",
   "metadata": {},
   "outputs": [
    {
     "name": "stderr",
     "output_type": "stream",
     "text": [
      "C:\\Users\\zeesh\\.conda\\envs\\myenv\\lib\\site-packages\\sklearn\\utils\\validation.py:2732: UserWarning: X has feature names, but OrdinalEncoder was fitted without feature names\n",
      "  warnings.warn(\n",
      "C:\\Users\\zeesh\\.conda\\envs\\myenv\\lib\\site-packages\\sklearn\\utils\\validation.py:2732: UserWarning: X has feature names, but OrdinalEncoder was fitted without feature names\n",
      "  warnings.warn(\n"
     ]
    }
   ],
   "source": [
    "def encode_columns(df, save_encoders=False):\n",
    "    \"\"\"Encode categorical columns and optionally save encoders\"\"\"\n",
    "    df = df.copy()\n",
    "    \n",
    "    # Encode team1 and team2 with shared encoder\n",
    "    team_encoder = OrdinalEncoder(handle_unknown='use_encoded_value', unknown_value=-1)\n",
    "    all_teams = pd.concat([df['team1'], df['team2']]).unique().reshape(-1, 1)\n",
    "    team_encoder.fit(all_teams)\n",
    "    \n",
    "    df['team1'] = team_encoder.transform(df[['team1']])\n",
    "    df['team2'] = team_encoder.transform(df[['team2']])\n",
    "    \n",
    "    # Encode other columns\n",
    "    cup_encoder = OrdinalEncoder(handle_unknown='use_encoded_value', unknown_value=-1)\n",
    "    df['CupName'] = cup_encoder.fit_transform(df[['CupName']])\n",
    "    \n",
    "    venue_encoder = OrdinalEncoder(handle_unknown='use_encoded_value', unknown_value=-1)\n",
    "    df['venue_country'] = venue_encoder.fit_transform(df[['venue_country']])\n",
    "    \n",
    "    if save_encoders:\n",
    "        joblib.dump(team_encoder, 'team_encoder.joblib')\n",
    "        joblib.dump(cup_encoder, 'cup_encoder.joblib')\n",
    "        joblib.dump(venue_encoder, 'venue_encoder.joblib')\n",
    "    \n",
    "    return df\n",
    "\n",
    "# During training\n",
    "encoded_df = encode_columns(df, save_encoders=True)"
   ]
  },
  {
   "cell_type": "code",
   "execution_count": 21,
   "id": "83602971-5473-4edb-80c9-8a84e9766dee",
   "metadata": {},
   "outputs": [],
   "source": [
    "# Save the dataframe using pickle\n",
    "encoded_df.to_pickle('preprocessed_historical_data.pkl')"
   ]
  },
  {
   "cell_type": "markdown",
   "id": "b3dfa0ad-810d-4760-9c64-01cbeb82246c",
   "metadata": {},
   "source": [
    "# Defining the Outcome variable"
   ]
  },
  {
   "cell_type": "code",
   "execution_count": 22,
   "id": "12bd2d57-f6ac-4717-9770-11c24fb70eb8",
   "metadata": {},
   "outputs": [],
   "source": [
    "# Define the outcome variable for multi-class classification\n",
    "def classify_outcome(row):\n",
    "    if row['team1Score'] > row['team2Score']:\n",
    "        return 2  # team1 wins\n",
    "    elif row['team1Score'] < row['team2Score']:\n",
    "        return 0  # team1 loses\n",
    "    else:\n",
    "        return 1  # draw\n",
    "\n",
    "encoded_df['target'] = encoded_df.apply(classify_outcome, axis=1)        "
   ]
  },
  {
   "cell_type": "markdown",
   "id": "81c1e9d8-af12-40be-847c-98b06ddfa4d5",
   "metadata": {},
   "source": [
    "# Splitting the data into train test sets"
   ]
  },
  {
   "cell_type": "code",
   "execution_count": 23,
   "id": "8288618f-8e47-4966-8821-00a71f716531",
   "metadata": {},
   "outputs": [
    {
     "name": "stdout",
     "output_type": "stream",
     "text": [
      "Training set size: 28849\n",
      "Testing set size: 765\n"
     ]
    }
   ],
   "source": [
    "# Split the data into training (1950-2016) and testing (2017)\n",
    "train_data = encoded_df[encoded_df['year'] <= 2016]\n",
    "test_data = encoded_df[encoded_df['year'] == 2017]\n",
    "\n",
    "# Check the size of the training and testing sets\n",
    "print(f\"Training set size: {len(train_data)}\")\n",
    "print(f\"Testing set size: {len(test_data)}\")\n"
   ]
  },
  {
   "cell_type": "markdown",
   "id": "468e4afb-c0a4-4fd8-920c-4a74dd878b07",
   "metadata": {},
   "source": [
    "# Defining features and target variable"
   ]
  },
  {
   "cell_type": "code",
   "execution_count": 32,
   "id": "8cc7dbb8-9047-435b-b016-522479ccb759",
   "metadata": {},
   "outputs": [],
   "source": [
    "# Define the features and target variable\n",
    "features = [\n",
    "    'team1', 'team2', 'CupName', 'venue_country', 'is_home_team1', 'is_home_team2',\n",
    "    'neutral_venue', 'confederation_strength_team1', 'confederation_strength_team2',\n",
    "    'team1_avg_goals_last_5', 'team1_avg_goals_conceded_last_5', 'team1_win_rate_last_10',\n",
    "    'team2_avg_goals_last_5', 'team2_avg_goals_conceded_last_5', 'team2_win_rate_last_10', 'h2h_win_rate_team1', 'h2h_avg_goals_team1', 'h2h_win_rate_team2', 'h2h_avg_goals_team2', 'year', 'month', 'day'  \n",
    "]\n",
    "\n",
    "X_train = train_data[features]\n",
    "y_train = train_data['target']  \n",
    "X_test = test_data[features]\n",
    "y_test = test_data['target']"
   ]
  },
  {
   "cell_type": "markdown",
   "id": "5fa30e1c-72ce-4f37-87e6-492c709a2cd4",
   "metadata": {},
   "source": [
    "# Model training and evaluation"
   ]
  },
  {
   "cell_type": "code",
   "execution_count": 33,
   "id": "9feea2d4-6f24-4cd5-818b-211327cc484c",
   "metadata": {},
   "outputs": [
    {
     "name": "stderr",
     "output_type": "stream",
     "text": [
      "C:\\Users\\zeesh\\.conda\\envs\\myenv\\lib\\site-packages\\xgboost\\core.py:158: UserWarning: [06:09:39] WARNING: C:\\buildkite-agent\\builds\\buildkite-windows-cpu-autoscaling-group-i-08cbc0333d8d4aae1-1\\xgboost\\xgboost-ci-windows\\src\\learner.cc:740: \n",
      "Parameters: { \"use_label_encoder\" } are not used.\n",
      "\n",
      "  warnings.warn(smsg, UserWarning)\n"
     ]
    },
    {
     "name": "stdout",
     "output_type": "stream",
     "text": [
      "Accuracy: 0.52\n",
      "Classification Report:\n",
      "               precision    recall  f1-score   support\n",
      "\n",
      "           0       0.53      0.48      0.51       212\n",
      "           1       0.36      0.20      0.26       208\n",
      "           2       0.56      0.74      0.64       345\n",
      "\n",
      "    accuracy                           0.52       765\n",
      "   macro avg       0.48      0.48      0.47       765\n",
      "weighted avg       0.50      0.52      0.50       765\n",
      "\n"
     ]
    }
   ],
   "source": [
    "# Initialize XGBoost classifier\n",
    "model = xgb.XGBClassifier(\n",
    "    objective='multi:softprob',  # 'multi:softprob' for multi-class\n",
    "    eval_metric='mlogloss',  # For multi-class, use mlogloss\n",
    "    use_label_encoder=False,\n",
    "    n_estimators=500,\n",
    "    learning_rate=0.1,\n",
    "    max_depth=6,\n",
    "    num_class=3  # Specify the number of classes: 3 (win, draw, lose)\n",
    ")\n",
    "\n",
    "# Train the model\n",
    "model.fit(X_train, y_train)\n",
    "\n",
    "# Make predictions\n",
    "y_pred = model.predict(X_test)\n",
    "y_pred_proba = model.predict_proba(X_test)  # Get probabilities for each class (useful for win probabilities)\n",
    "\n",
    "# Evaluate the model\n",
    "print(f\"Accuracy: {accuracy_score(y_test, y_pred):.2f}\")\n",
    "print(\"Classification Report:\\n\", classification_report(y_test, y_pred))"
   ]
  },
  {
   "cell_type": "code",
   "execution_count": 31,
   "id": "8957365c-4f8d-4d59-930d-e8db14f826ec",
   "metadata": {},
   "outputs": [
    {
     "data": {
      "text/plain": [
       "['worldcup_model.pkl']"
      ]
     },
     "execution_count": 31,
     "metadata": {},
     "output_type": "execute_result"
    }
   ],
   "source": [
    "# Save Model\n",
    "joblib.dump(model, 'worldcup_model.pkl')"
   ]
  }
 ],
 "metadata": {
  "kernelspec": {
   "display_name": "Python 3 (ipykernel)",
   "language": "python",
   "name": "python3"
  },
  "language_info": {
   "codemirror_mode": {
    "name": "ipython",
    "version": 3
   },
   "file_extension": ".py",
   "mimetype": "text/x-python",
   "name": "python",
   "nbconvert_exporter": "python",
   "pygments_lexer": "ipython3",
   "version": "3.10.16"
  }
 },
 "nbformat": 4,
 "nbformat_minor": 5
}
